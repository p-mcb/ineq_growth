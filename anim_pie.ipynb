{
 "cells": [
  {
   "cell_type": "markdown",
   "metadata": {
    "collapsed": true
   },
   "source": [
    "# A Slice of Pie"
   ]
  },
  {
   "cell_type": "markdown",
   "metadata": {},
   "source": [
    "During the recent March for Science, several activists pointed out the importance of technology, ideas, and innovation for economic growth. The visualization below combines data on economic growth with data on economic inequality, an issue that continues to command public attention.\n",
    "\n",
    "Key points for this animation:\n",
    "- The circular area is scaled to real GDP\n",
    "   * The change over time shows economic growth\n",
    "- The slices show total income accrued to four groups within the American economy\n",
    "   * Light blue: up to the 50th percentile of income\n",
    "   * Purple: 50th percentile to 90th\n",
    "   * Green: 90th percentile to 99th\n",
    "   * Dark blue: above the 99th percentile\n",
    "- These percentiles are based on individual income: one half of the population is in the light blue slice, forty percent is in the purple slice, and so on\n",
    "- Shows US data\n",
    "- Missing slices reflect data unavailability\n"
   ]
  },
  {
   "cell_type": "markdown",
   "metadata": {
    "collapsed": true
   },
   "source": [
    "![alt text](IneqGrowth.gif \"IneqGrowth\")"
   ]
  },
  {
   "cell_type": "markdown",
   "metadata": {
    "collapsed": true
   },
   "source": [
    "The data for this visual comes from the [World Wealth and Income Database](http://wid.world), which provides free public access to its data. Thanks!\n",
    "\n",
    "This gif was created with matplotlib. All files available here: https://github.com/p-mcb/ineq_growth"
   ]
  }
 ],
 "metadata": {
  "kernelspec": {
   "display_name": "Python 3",
   "language": "python",
   "name": "python3"
  },
  "language_info": {
   "codemirror_mode": {
    "name": "ipython",
    "version": 3
   },
   "file_extension": ".py",
   "mimetype": "text/x-python",
   "name": "python",
   "nbconvert_exporter": "python",
   "pygments_lexer": "ipython3",
   "version": "3.6.0"
  }
 },
 "nbformat": 4,
 "nbformat_minor": 2
}
